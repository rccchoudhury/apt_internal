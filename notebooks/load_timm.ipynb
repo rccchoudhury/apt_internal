{
 "cells": [
  {
   "cell_type": "code",
   "execution_count": 2,
   "metadata": {},
   "outputs": [
    {
     "name": "stdout",
     "output_type": "stream",
     "text": [
      "vit_base_patch8_224.augreg2_in21k_ft_in1k\n",
      "vit_base_patch16_224.augreg2_in21k_ft_in1k\n",
      "vit_base_patch16_384.augreg_in21k_ft_in1k\n",
      "eva02_base_patch14_448.mim_in22k_ft_in22k_in1k\n",
      "eva_large_patch14_196.in22k_ft_in22k_in1k\n",
      "vit_large_patch14_clip_224.laion2b_ft_in12k_in1k\n",
      "vit_large_patch16_224.augreg_in21k_ft_in1k\n",
      "vit_large_patch14_clip_336.laion2b_ft_in12k_in1k\n",
      "eva_large_patch14_336.in22k_ft_in22k_in1k\n",
      "vit_large_patch16_384.augreg_in21k_ft_in1k\n",
      "eva02_large_patch14_448.mim_m38m_ft_in22k_in1k\n",
      "vit_huge_patch14_clip_224.laion2b_ft_in12k_in1k\n",
      "vit_huge_patch14_clip_336.laion2b_ft_in12k_in1k\n",
      "eva_giant_patch14_224.clip_ft_in1k\n",
      "eva_giant_patch14_336.m30m_ft_in22k_in1k\n",
      "eva_giant_patch14_560.m30m_ft_in22k_in1k\n"
     ]
    }
   ],
   "source": [
    "import sys\n",
    "sys.path.append(\"..\")\n",
    "import os\n",
    "import torch\n",
    "import torch.nn as nn\n",
    "import timm\n",
    "\n",
    "from src.models.vision_transformer import VisionTransformer\n",
    "\n",
    "###########################################################\n",
    "# UNCOMMENT BELOW TO MOVE WEIGHTS FROM FLAX -> PYTORCH\n",
    "###########################################################\n",
    "\n",
    "checkpoints = [\n",
    "    'vit_base_patch8_224.augreg2_in21k_ft_in1k', \n",
    "    'vit_base_patch16_224.augreg2_in21k_ft_in1k', \n",
    "    'vit_base_patch16_384.augreg_in21k_ft_in1k', \n",
    "    'eva02_base_patch14_448.mim_in22k_ft_in22k_in1k', \n",
    "    'eva_large_patch14_196.in22k_ft_in22k_in1k', \n",
    "    'vit_large_patch14_clip_224.laion2b_ft_in12k_in1k', \n",
    "    'vit_large_patch16_224.augreg_in21k_ft_in1k', \n",
    "    'vit_large_patch14_clip_336.laion2b_ft_in12k_in1k',\n",
    "    'eva_large_patch14_336.in22k_ft_in22k_in1k',\n",
    "    'vit_large_patch16_384.augreg_in21k_ft_in1k',\n",
    "    'eva02_large_patch14_448.mim_m38m_ft_in22k_in1k',\n",
    "    'vit_huge_patch14_clip_224.laion2b_ft_in12k_in1k',\n",
    "    'vit_huge_patch14_clip_336.laion2b_ft_in12k_in1k',\n",
    "    'eva_giant_patch14_224.clip_ft_in1k',\n",
    "    'eva_giant_patch14_336.m30m_ft_in22k_in1k',\n",
    "    'eva_giant_patch14_560.m30m_ft_in22k_in1k',\n",
    "]\n",
    "\n",
    "for checkpoint in checkpoints:\n",
    "    print(checkpoint)\n",
    "    model = timm.create_model(checkpoint, pretrained=True)\n",
    "    # Save checkpoint\n",
    "    ckpt_folder_path = \"/home/rchoudhu/research/Mixed-Resolution-Patch/flexivit/checkpoints\"\n",
    "    name = checkpoint.split(\".\")[0]\n",
    "    torch.save(model.state_dict(), os.path.join(ckpt_folder_path, f\"{name}.pth\")) "
   ]
  },
  {
   "cell_type": "code",
   "execution_count": 40,
   "metadata": {},
   "outputs": [
    {
     "data": {
      "text/plain": [
       "'token'"
      ]
     },
     "execution_count": 40,
     "metadata": {},
     "output_type": "execute_result"
    }
   ],
   "source": [
    "model.global_pool"
   ]
  },
  {
   "cell_type": "code",
   "execution_count": 43,
   "metadata": {},
   "outputs": [
    {
     "ename": "ModuleNotFoundError",
     "evalue": "No module named 'apex'",
     "output_type": "error",
     "traceback": [
      "\u001b[0;31m---------------------------------------------------------------------------\u001b[0m",
      "\u001b[0;31mModuleNotFoundError\u001b[0m                       Traceback (most recent call last)",
      "Cell \u001b[0;32mIn[43], line 1\u001b[0m\n\u001b[0;32m----> 1\u001b[0m \u001b[38;5;28;01mfrom\u001b[39;00m\u001b[38;5;250m \u001b[39m\u001b[38;5;21;01mapex\u001b[39;00m\u001b[38;5;250m \u001b[39m\u001b[38;5;28;01mimport\u001b[39;00m amp\n\u001b[1;32m      2\u001b[0m \u001b[38;5;28;01mfrom\u001b[39;00m\u001b[38;5;250m \u001b[39m\u001b[38;5;21;01mapex\u001b[39;00m\u001b[38;5;21;01m.\u001b[39;00m\u001b[38;5;21;01mparallel\u001b[39;00m\u001b[38;5;250m \u001b[39m\u001b[38;5;28;01mimport\u001b[39;00m DistributedDataParallel \u001b[38;5;28;01mas\u001b[39;00m ApexDDP\n\u001b[1;32m      3\u001b[0m \u001b[38;5;28;01mfrom\u001b[39;00m\u001b[38;5;250m \u001b[39m\u001b[38;5;21;01mapex\u001b[39;00m\u001b[38;5;21;01m.\u001b[39;00m\u001b[38;5;21;01mparallel\u001b[39;00m\u001b[38;5;250m \u001b[39m\u001b[38;5;28;01mimport\u001b[39;00m convert_syncbn_model\n",
      "\u001b[0;31mModuleNotFoundError\u001b[0m: No module named 'apex'"
     ]
    }
   ],
   "source": [
    "from apex import amp\n",
    "from apex.parallel import DistributedDataParallel as ApexDDP\n",
    "from apex.parallel import convert_syncbn_model\n",
    "has_apex = True\n"
   ]
  },
  {
   "cell_type": "code",
   "execution_count": null,
   "metadata": {},
   "outputs": [],
   "source": []
  }
 ],
 "metadata": {
  "kernelspec": {
   "display_name": "mixedres2",
   "language": "python",
   "name": "python3"
  },
  "language_info": {
   "codemirror_mode": {
    "name": "ipython",
    "version": 3
   },
   "file_extension": ".py",
   "mimetype": "text/x-python",
   "name": "python",
   "nbconvert_exporter": "python",
   "pygments_lexer": "ipython3",
   "version": "3.10.16"
  }
 },
 "nbformat": 4,
 "nbformat_minor": 2
}
